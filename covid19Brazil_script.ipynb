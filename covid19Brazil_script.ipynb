{
  "nbformat": 4,
  "nbformat_minor": 0,
  "metadata": {
    "colab": {
      "name": "covid19Brazil-script.ipynb",
      "provenance": [],
      "collapsed_sections": [],
      "toc_visible": true
    },
    "kernelspec": {
      "name": "python3",
      "display_name": "Python 3"
    }
  },
  "cells": [
    {
      "cell_type": "markdown",
      "metadata": {
        "id": "Ylhm44l0gAwN",
        "colab_type": "text"
      },
      "source": [
        "#Bibliotecas e Drives"
      ]
    },
    {
      "cell_type": "code",
      "metadata": {
        "id": "XBpEOzJefx4t",
        "colab_type": "code",
        "colab": {}
      },
      "source": [
        "import pandas as pd\n",
        "import numpy as np\n",
        "import io\n",
        "import requests\n",
        "import folium\n",
        "from folium import plugins\n",
        "%matplotlib inline"
      ],
      "execution_count": 0,
      "outputs": []
    },
    {
      "cell_type": "code",
      "metadata": {
        "id": "mlfwcdLqgVvY",
        "colab_type": "code",
        "outputId": "823e7678-d223-4f44-de09-68c55d89ddeb",
        "colab": {
          "base_uri": "https://localhost:8080/",
          "height": 34
        }
      },
      "source": [
        "%cd /content/drive/My\\ Drive/Colab\\ Notebooks/covid19"
      ],
      "execution_count": 2,
      "outputs": [
        {
          "output_type": "stream",
          "text": [
            "/content/drive/My Drive/Colab Notebooks/covid19\n"
          ],
          "name": "stdout"
        }
      ]
    },
    {
      "cell_type": "code",
      "metadata": {
        "id": "0UBR9jtjgul7",
        "colab_type": "code",
        "outputId": "31dcdafc-63e8-406b-cef3-988cc48524d8",
        "colab": {
          "base_uri": "https://localhost:8080/",
          "height": 399
        }
      },
      "source": [
        "!ls"
      ],
      "execution_count": 3,
      "outputs": [
        {
          "output_type": "stream",
          "text": [
            " API_SP.POP.TOTL_DS2_en_csv_v2_887275.csv\n",
            " brasil_20200324.csv\n",
            " brasil_20200326.csv\n",
            " Brasil_20200327.html\n",
            " Brasil_covid19.html\n",
            " casos_100mil-2020.04.10.png\n",
            " covid19Brazil-script.ipynb\n",
            " covid19-script.ipynb\n",
            " covid19-SEIR.ipynb\n",
            "'Documento sem título.gdoc'\n",
            " estimativa_brasil-2020.04.10.png\n",
            " evolução-global-2020.04.10.png\n",
            " full_data_20200320.csv\n",
            " full_data_20200321.csv\n",
            " full_data_20200322.csv\n",
            " full_data_20200323.csv\n",
            " full_data_20200326.csv\n",
            " Metadata_Country_API_SP.POP.TOTL_DS2_en_csv_v2_887275.csv\n",
            " Metadata_Indicator_API_SP.POP.TOTL_DS2_en_csv_v2_887275.csv\n",
            " novos-casos-global-2020.04.10.png\n",
            " taxa-mortes-global-2020.04.10.png\n",
            " teste.png\n"
          ],
          "name": "stdout"
        }
      ]
    },
    {
      "cell_type": "markdown",
      "metadata": {
        "id": "tK19J3hag5iV",
        "colab_type": "text"
      },
      "source": [
        "#Carregando o banco de dados"
      ]
    },
    {
      "cell_type": "code",
      "metadata": {
        "id": "QFThE7INyGOc",
        "colab_type": "code",
        "outputId": "23f1f9fb-314b-4bf3-ca43-e55227f85a56",
        "colab": {
          "base_uri": "https://localhost:8080/",
          "height": 424
        }
      },
      "source": [
        "url='https://raw.githubusercontent.com/wcota/covid19br/master/cases-gps.csv'\n",
        "data = requests.get(url).content\n",
        "brazil_df = pd.read_csv(io.StringIO(data.decode('utf-8')))\n",
        "brazil_df"
      ],
      "execution_count": 4,
      "outputs": [
        {
          "output_type": "execute_result",
          "data": {
            "text/html": [
              "<div>\n",
              "<style scoped>\n",
              "    .dataframe tbody tr th:only-of-type {\n",
              "        vertical-align: middle;\n",
              "    }\n",
              "\n",
              "    .dataframe tbody tr th {\n",
              "        vertical-align: top;\n",
              "    }\n",
              "\n",
              "    .dataframe thead th {\n",
              "        text-align: right;\n",
              "    }\n",
              "</style>\n",
              "<table border=\"1\" class=\"dataframe\">\n",
              "  <thead>\n",
              "    <tr style=\"text-align: right;\">\n",
              "      <th></th>\n",
              "      <th>type</th>\n",
              "      <th>name</th>\n",
              "      <th>lat</th>\n",
              "      <th>lon</th>\n",
              "      <th>total</th>\n",
              "    </tr>\n",
              "  </thead>\n",
              "  <tbody>\n",
              "    <tr>\n",
              "      <th>0</th>\n",
              "      <td>1</td>\n",
              "      <td>Abaetetuba/PA</td>\n",
              "      <td>-1.721828</td>\n",
              "      <td>-48.878843</td>\n",
              "      <td>2</td>\n",
              "    </tr>\n",
              "    <tr>\n",
              "      <th>1</th>\n",
              "      <td>1</td>\n",
              "      <td>Abaiara/CE</td>\n",
              "      <td>-7.360781</td>\n",
              "      <td>-39.048788</td>\n",
              "      <td>1</td>\n",
              "    </tr>\n",
              "    <tr>\n",
              "      <th>2</th>\n",
              "      <td>1</td>\n",
              "      <td>Abreu e Lima/PE</td>\n",
              "      <td>-7.900719</td>\n",
              "      <td>-34.898389</td>\n",
              "      <td>1</td>\n",
              "    </tr>\n",
              "    <tr>\n",
              "      <th>3</th>\n",
              "      <td>1</td>\n",
              "      <td>Acrelândia/AC</td>\n",
              "      <td>-10.075917</td>\n",
              "      <td>-67.052690</td>\n",
              "      <td>9</td>\n",
              "    </tr>\n",
              "    <tr>\n",
              "      <th>4</th>\n",
              "      <td>1</td>\n",
              "      <td>Adustina/BA</td>\n",
              "      <td>-10.535887</td>\n",
              "      <td>-38.114479</td>\n",
              "      <td>1</td>\n",
              "    </tr>\n",
              "    <tr>\n",
              "      <th>...</th>\n",
              "      <td>...</td>\n",
              "      <td>...</td>\n",
              "      <td>...</td>\n",
              "      <td>...</td>\n",
              "      <td>...</td>\n",
              "    </tr>\n",
              "    <tr>\n",
              "      <th>1041</th>\n",
              "      <td>1</td>\n",
              "      <td>Várzea Grande/MT</td>\n",
              "      <td>-15.645816</td>\n",
              "      <td>-56.132218</td>\n",
              "      <td>6</td>\n",
              "    </tr>\n",
              "    <tr>\n",
              "      <th>1042</th>\n",
              "      <td>1</td>\n",
              "      <td>Águas Lindas de Goiás/GO</td>\n",
              "      <td>-15.739228</td>\n",
              "      <td>-48.279336</td>\n",
              "      <td>1</td>\n",
              "    </tr>\n",
              "    <tr>\n",
              "      <th>1043</th>\n",
              "      <td>1</td>\n",
              "      <td>Águas Mornas/SC</td>\n",
              "      <td>-27.696316</td>\n",
              "      <td>-48.824783</td>\n",
              "      <td>1</td>\n",
              "    </tr>\n",
              "    <tr>\n",
              "      <th>1044</th>\n",
              "      <td>1</td>\n",
              "      <td>Águas de Lindóia/SP</td>\n",
              "      <td>-22.471886</td>\n",
              "      <td>-46.629103</td>\n",
              "      <td>1</td>\n",
              "    </tr>\n",
              "    <tr>\n",
              "      <th>1045</th>\n",
              "      <td>D1</td>\n",
              "      <td>Águas de Lindóia/SP</td>\n",
              "      <td>-22.471886</td>\n",
              "      <td>-46.629103</td>\n",
              "      <td>1</td>\n",
              "    </tr>\n",
              "  </tbody>\n",
              "</table>\n",
              "<p>1046 rows × 5 columns</p>\n",
              "</div>"
            ],
            "text/plain": [
              "     type                      name        lat        lon  total\n",
              "0       1             Abaetetuba/PA  -1.721828 -48.878843      2\n",
              "1       1                Abaiara/CE  -7.360781 -39.048788      1\n",
              "2       1           Abreu e Lima/PE  -7.900719 -34.898389      1\n",
              "3       1             Acrelândia/AC -10.075917 -67.052690      9\n",
              "4       1               Adustina/BA -10.535887 -38.114479      1\n",
              "...   ...                       ...        ...        ...    ...\n",
              "1041    1          Várzea Grande/MT -15.645816 -56.132218      6\n",
              "1042    1  Águas Lindas de Goiás/GO -15.739228 -48.279336      1\n",
              "1043    1           Águas Mornas/SC -27.696316 -48.824783      1\n",
              "1044    1       Águas de Lindóia/SP -22.471886 -46.629103      1\n",
              "1045   D1       Águas de Lindóia/SP -22.471886 -46.629103      1\n",
              "\n",
              "[1046 rows x 5 columns]"
            ]
          },
          "metadata": {
            "tags": []
          },
          "execution_count": 4
        }
      ]
    },
    {
      "cell_type": "code",
      "metadata": {
        "id": "m1vnhsLD3UFD",
        "colab_type": "code",
        "outputId": "a34f7430-2c23-420d-ac93-0bee1b21e746",
        "colab": {
          "base_uri": "https://localhost:8080/",
          "height": 609
        }
      },
      "source": [
        "brazil_df['mortes'] = pd.np.where(brazil_df['type'].str.contains('D1'), brazil_df['total'], 0)\n",
        "brazil_df['total'] = pd.np.where(brazil_df['type'].str.contains('D1'), 0, brazil_df['total'])\n",
        "\n",
        "brazil_df.head(15)"
      ],
      "execution_count": 5,
      "outputs": [
        {
          "output_type": "stream",
          "text": [
            "/usr/local/lib/python3.6/dist-packages/ipykernel_launcher.py:1: FutureWarning: The pandas.np module is deprecated and will be removed from pandas in a future version. Import numpy directly instead\n",
            "  \"\"\"Entry point for launching an IPython kernel.\n",
            "/usr/local/lib/python3.6/dist-packages/ipykernel_launcher.py:2: FutureWarning: The pandas.np module is deprecated and will be removed from pandas in a future version. Import numpy directly instead\n",
            "  \n"
          ],
          "name": "stderr"
        },
        {
          "output_type": "execute_result",
          "data": {
            "text/html": [
              "<div>\n",
              "<style scoped>\n",
              "    .dataframe tbody tr th:only-of-type {\n",
              "        vertical-align: middle;\n",
              "    }\n",
              "\n",
              "    .dataframe tbody tr th {\n",
              "        vertical-align: top;\n",
              "    }\n",
              "\n",
              "    .dataframe thead th {\n",
              "        text-align: right;\n",
              "    }\n",
              "</style>\n",
              "<table border=\"1\" class=\"dataframe\">\n",
              "  <thead>\n",
              "    <tr style=\"text-align: right;\">\n",
              "      <th></th>\n",
              "      <th>type</th>\n",
              "      <th>name</th>\n",
              "      <th>lat</th>\n",
              "      <th>lon</th>\n",
              "      <th>total</th>\n",
              "      <th>mortes</th>\n",
              "    </tr>\n",
              "  </thead>\n",
              "  <tbody>\n",
              "    <tr>\n",
              "      <th>0</th>\n",
              "      <td>1</td>\n",
              "      <td>Abaetetuba/PA</td>\n",
              "      <td>-1.721828</td>\n",
              "      <td>-48.878843</td>\n",
              "      <td>2</td>\n",
              "      <td>0</td>\n",
              "    </tr>\n",
              "    <tr>\n",
              "      <th>1</th>\n",
              "      <td>1</td>\n",
              "      <td>Abaiara/CE</td>\n",
              "      <td>-7.360781</td>\n",
              "      <td>-39.048788</td>\n",
              "      <td>1</td>\n",
              "      <td>0</td>\n",
              "    </tr>\n",
              "    <tr>\n",
              "      <th>2</th>\n",
              "      <td>1</td>\n",
              "      <td>Abreu e Lima/PE</td>\n",
              "      <td>-7.900719</td>\n",
              "      <td>-34.898389</td>\n",
              "      <td>1</td>\n",
              "      <td>0</td>\n",
              "    </tr>\n",
              "    <tr>\n",
              "      <th>3</th>\n",
              "      <td>1</td>\n",
              "      <td>Acrelândia/AC</td>\n",
              "      <td>-10.075917</td>\n",
              "      <td>-67.052690</td>\n",
              "      <td>9</td>\n",
              "      <td>0</td>\n",
              "    </tr>\n",
              "    <tr>\n",
              "      <th>4</th>\n",
              "      <td>1</td>\n",
              "      <td>Adustina/BA</td>\n",
              "      <td>-10.535887</td>\n",
              "      <td>-38.114479</td>\n",
              "      <td>1</td>\n",
              "      <td>0</td>\n",
              "    </tr>\n",
              "    <tr>\n",
              "      <th>5</th>\n",
              "      <td>D1</td>\n",
              "      <td>Adustina/BA</td>\n",
              "      <td>-10.535887</td>\n",
              "      <td>-38.114479</td>\n",
              "      <td>0</td>\n",
              "      <td>1</td>\n",
              "    </tr>\n",
              "    <tr>\n",
              "      <th>6</th>\n",
              "      <td>1</td>\n",
              "      <td>Afonso Cláudio/ES</td>\n",
              "      <td>-20.077841</td>\n",
              "      <td>-41.126060</td>\n",
              "      <td>1</td>\n",
              "      <td>0</td>\n",
              "    </tr>\n",
              "    <tr>\n",
              "      <th>7</th>\n",
              "      <td>1</td>\n",
              "      <td>Agudos/SP</td>\n",
              "      <td>-22.471162</td>\n",
              "      <td>-48.987822</td>\n",
              "      <td>1</td>\n",
              "      <td>0</td>\n",
              "    </tr>\n",
              "    <tr>\n",
              "      <th>8</th>\n",
              "      <td>D1</td>\n",
              "      <td>Agudos/SP</td>\n",
              "      <td>-22.471162</td>\n",
              "      <td>-48.987822</td>\n",
              "      <td>0</td>\n",
              "      <td>1</td>\n",
              "    </tr>\n",
              "    <tr>\n",
              "      <th>9</th>\n",
              "      <td>1</td>\n",
              "      <td>Alagoinhas/BA</td>\n",
              "      <td>-12.133526</td>\n",
              "      <td>-38.420772</td>\n",
              "      <td>5</td>\n",
              "      <td>0</td>\n",
              "    </tr>\n",
              "    <tr>\n",
              "      <th>10</th>\n",
              "      <td>1</td>\n",
              "      <td>Alcinópolis/MS</td>\n",
              "      <td>-18.326412</td>\n",
              "      <td>-53.709446</td>\n",
              "      <td>1</td>\n",
              "      <td>0</td>\n",
              "    </tr>\n",
              "    <tr>\n",
              "      <th>11</th>\n",
              "      <td>1</td>\n",
              "      <td>Alegrete/RS</td>\n",
              "      <td>-29.790166</td>\n",
              "      <td>-55.794862</td>\n",
              "      <td>1</td>\n",
              "      <td>0</td>\n",
              "    </tr>\n",
              "    <tr>\n",
              "      <th>12</th>\n",
              "      <td>1</td>\n",
              "      <td>Alfenas/MG</td>\n",
              "      <td>-21.429741</td>\n",
              "      <td>-45.947942</td>\n",
              "      <td>1</td>\n",
              "      <td>0</td>\n",
              "    </tr>\n",
              "    <tr>\n",
              "      <th>13</th>\n",
              "      <td>1</td>\n",
              "      <td>Aliança/PE</td>\n",
              "      <td>-7.603980</td>\n",
              "      <td>-35.222696</td>\n",
              "      <td>2</td>\n",
              "      <td>0</td>\n",
              "    </tr>\n",
              "    <tr>\n",
              "      <th>14</th>\n",
              "      <td>1</td>\n",
              "      <td>Almirante Tamandaré/PR</td>\n",
              "      <td>-25.313305</td>\n",
              "      <td>-49.299784</td>\n",
              "      <td>3</td>\n",
              "      <td>0</td>\n",
              "    </tr>\n",
              "  </tbody>\n",
              "</table>\n",
              "</div>"
            ],
            "text/plain": [
              "   type                    name        lat        lon  total  mortes\n",
              "0     1           Abaetetuba/PA  -1.721828 -48.878843      2       0\n",
              "1     1              Abaiara/CE  -7.360781 -39.048788      1       0\n",
              "2     1         Abreu e Lima/PE  -7.900719 -34.898389      1       0\n",
              "3     1           Acrelândia/AC -10.075917 -67.052690      9       0\n",
              "4     1             Adustina/BA -10.535887 -38.114479      1       0\n",
              "5    D1             Adustina/BA -10.535887 -38.114479      0       1\n",
              "6     1       Afonso Cláudio/ES -20.077841 -41.126060      1       0\n",
              "7     1               Agudos/SP -22.471162 -48.987822      1       0\n",
              "8    D1               Agudos/SP -22.471162 -48.987822      0       1\n",
              "9     1           Alagoinhas/BA -12.133526 -38.420772      5       0\n",
              "10    1          Alcinópolis/MS -18.326412 -53.709446      1       0\n",
              "11    1             Alegrete/RS -29.790166 -55.794862      1       0\n",
              "12    1              Alfenas/MG -21.429741 -45.947942      1       0\n",
              "13    1              Aliança/PE  -7.603980 -35.222696      2       0\n",
              "14    1  Almirante Tamandaré/PR -25.313305 -49.299784      3       0"
            ]
          },
          "metadata": {
            "tags": []
          },
          "execution_count": 5
        }
      ]
    },
    {
      "cell_type": "code",
      "metadata": {
        "id": "dGegHp0HDkSo",
        "colab_type": "code",
        "outputId": "2420f0d0-1f19-42e7-ab2b-d929ceb39437",
        "colab": {
          "base_uri": "https://localhost:8080/",
          "height": 156
        }
      },
      "source": [
        "brazil_df['total'].unique()"
      ],
      "execution_count": 6,
      "outputs": [
        {
          "output_type": "execute_result",
          "data": {
            "text/plain": [
              "array([   2,    1,    9,    0,    5,    3,    4,   16,   10,   12,   24,\n",
              "         32,    6,    8,   13,   11,   27,   48,   42,   23,  310,  114,\n",
              "         59,   45,   15,  528,   25,    7,   31,   20,   22,   83,   14,\n",
              "         34,   46,   37,   58,  205,   55,   19,   38,   44,   28,  166,\n",
              "       1053,   26,   17,  102,  154,   18,  267,   82,  279,   90,   35,\n",
              "         49,   40,   51,   97,  800,   63,  116,  106,   50,  107,   30,\n",
              "        303,  340,   36, 1449,  314,  130,   64,  164,   41,   81,  247,\n",
              "       5477,   67,   87])"
            ]
          },
          "metadata": {
            "tags": []
          },
          "execution_count": 6
        }
      ]
    },
    {
      "cell_type": "markdown",
      "metadata": {
        "id": "zD4L6Q8bAjJe",
        "colab_type": "text"
      },
      "source": [
        "## Plotando sobre o mapa\n"
      ]
    },
    {
      "cell_type": "code",
      "metadata": {
        "id": "brG2r8zLXmuZ",
        "colab_type": "code",
        "colab": {}
      },
      "source": [
        "#Definindo o tamanho dos circulos\n",
        "brazil_df['size']=brazil_df['total'].apply(lambda total:12 if total>=900 else\n",
        "                                           10 if total>=400 and total<900 else \n",
        "                                           9 if total>=200 and total<400 else 3)\n",
        "\n",
        "#plotando o mapa, em PB\n",
        "mapa = folium.Map(location=[-15.788497,-47.879873],tiles='CartoDB dark_matter', \n",
        "                  zoom_start=4)\n",
        "\n",
        "#Marcação dos pontos\n",
        "for lat,lon,cidade,total,mortes,size,tipo in zip(brazil_df['lat'], brazil_df['lon'],\n",
        "                                                 brazil_df['name'], brazil_df['total'],\n",
        "                                                 brazil_df['mortes'],brazil_df['size'],\n",
        "                                                 brazil_df['type']):\n",
        "  if 'NÃO' in cidade:\n",
        "    texto = \"{}<br> Casos: {:,}\"\n",
        "    cor = 'orange'\n",
        "    texto = texto.format(cidade, total)\n",
        "  elif (tipo == 'D1') or (tipo == 'D0') :\n",
        "    texto = \"{}<br> Óbitos: {:,}\"\n",
        "    cor = 'black'\n",
        "    texto = texto.format(cidade, mortes)\n",
        "    size = 0.1\n",
        "  else:\n",
        "    texto = \"{}<br> Casos: {:,}\"\n",
        "    cor = 'red'\n",
        "    texto = texto.format(cidade, total)\n",
        "\n",
        "  folium.CircleMarker([lat,lon], radius=size, popup=texto, color=cor, \n",
        "                      fill=True, fill_opacity=0.9, fill_color='darkred').add_to(mapa)\n",
        "\n",
        "txt = \"Total no Brasil<br>de casos: 17.857<br>de mortes: 941<br>data: 10/04/2020\"\n",
        "popup = folium.Popup(txt, max_width=300)\n",
        "icon = folium.Icon(color='black', icon='info-sign')\n",
        "marcador = folium.Marker(location=[-15.6914,-25.8008], popup=popup, icon=icon)\n",
        "\n",
        "mapa.add_child(marcador)\n",
        "\n",
        "#Mapa de calor\n",
        "#mapa_calor = brazil_df[['lat', 'lon', 'total']].as_matrix()\n",
        "#mapa.add_children(plugins.HeatMap(mapa_calor, radius=15))\n",
        "\n",
        "mapa.save('Brasil_covid19.html')\n",
        "#mapa"
      ],
      "execution_count": 0,
      "outputs": []
    },
    {
      "cell_type": "code",
      "metadata": {
        "id": "h6a-mW1ega3y",
        "colab_type": "code",
        "colab": {}
      },
      "source": [
        ""
      ],
      "execution_count": 0,
      "outputs": []
    }
  ]
}