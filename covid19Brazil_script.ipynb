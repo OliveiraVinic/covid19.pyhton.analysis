{
  "nbformat": 4,
  "nbformat_minor": 0,
  "metadata": {
    "colab": {
      "name": "covid19Brazil-script.ipynb",
      "provenance": [],
      "collapsed_sections": []
    },
    "kernelspec": {
      "name": "python3",
      "display_name": "Python 3"
    }
  },
  "cells": [
    {
      "cell_type": "markdown",
      "metadata": {
        "id": "Ylhm44l0gAwN",
        "colab_type": "text"
      },
      "source": [
        "#Bibliotecas e Drives"
      ]
    },
    {
      "cell_type": "code",
      "metadata": {
        "id": "XBpEOzJefx4t",
        "colab_type": "code",
        "colab": {}
      },
      "source": [
        "import pandas as pd\n",
        "import numpy as np\n",
        "import io\n",
        "import requests\n",
        "import folium\n",
        "from folium import plugins\n",
        "from datetime import date\n",
        "%matplotlib inline"
      ],
      "execution_count": 16,
      "outputs": []
    },
    {
      "cell_type": "code",
      "metadata": {
        "id": "mlfwcdLqgVvY",
        "colab_type": "code",
        "colab": {
          "base_uri": "https://localhost:8080/",
          "height": 34
        },
        "outputId": "3b2eb68b-f41e-4eb6-b0eb-ddc9d8e5cdd2"
      },
      "source": [
        "%cd /content/drive/My\\ Drive/Colab\\ Notebooks/covid19"
      ],
      "execution_count": 2,
      "outputs": [
        {
          "output_type": "stream",
          "text": [
            "/content/drive/My Drive/Colab Notebooks/covid19\n"
          ],
          "name": "stdout"
        }
      ]
    },
    {
      "cell_type": "code",
      "metadata": {
        "id": "0UBR9jtjgul7",
        "colab_type": "code",
        "colab": {
          "base_uri": "https://localhost:8080/",
          "height": 364
        },
        "outputId": "912ed3c6-ee0f-4377-bf3b-19b7cb41b008"
      },
      "source": [
        "!ls"
      ],
      "execution_count": 3,
      "outputs": [
        {
          "output_type": "stream",
          "text": [
            " API_SP.POP.TOTL_DS2_en_csv_v2_887275.csv\n",
            " brasil_20200324.csv\n",
            " brasil_20200326.csv\n",
            " Brasil_20200327.html\n",
            " Brasil_covid19-calor.html\n",
            " Brasil_covid19.html\n",
            " covid19BrazilCelular-script.ipynb\n",
            " covid19Brazil-script.ipynb\n",
            " covid19-script.ipynb\n",
            " covid19-scripts-trash.ipynb\n",
            " covid19-SEIR.ipynb\n",
            "'Documento sem título.gdoc'\n",
            " full_data_20200320.csv\n",
            " full_data_20200321.csv\n",
            " full_data_20200322.csv\n",
            " full_data_20200323.csv\n",
            " full_data_20200326.csv\n",
            " Metadata_Country_API_SP.POP.TOTL_DS2_en_csv_v2_887275.csv\n",
            " Metadata_Indicator_API_SP.POP.TOTL_DS2_en_csv_v2_887275.csv\n",
            " teste.png\n"
          ],
          "name": "stdout"
        }
      ]
    },
    {
      "cell_type": "markdown",
      "metadata": {
        "id": "tK19J3hag5iV",
        "colab_type": "text"
      },
      "source": [
        "#Carregando o banco de dados"
      ]
    },
    {
      "cell_type": "code",
      "metadata": {
        "id": "QFThE7INyGOc",
        "colab_type": "code",
        "colab": {
          "base_uri": "https://localhost:8080/",
          "height": 424
        },
        "outputId": "de262691-2637-4849-9413-175d5a20ce06"
      },
      "source": [
        "url='https://raw.githubusercontent.com/wcota/covid19br/master/cases-gps.csv'\n",
        "data = requests.get(url).content\n",
        "brazil_df = pd.read_csv(io.StringIO(data.decode('utf-8')))\n",
        "brazil_df"
      ],
      "execution_count": 4,
      "outputs": [
        {
          "output_type": "execute_result",
          "data": {
            "text/html": [
              "<div>\n",
              "<style scoped>\n",
              "    .dataframe tbody tr th:only-of-type {\n",
              "        vertical-align: middle;\n",
              "    }\n",
              "\n",
              "    .dataframe tbody tr th {\n",
              "        vertical-align: top;\n",
              "    }\n",
              "\n",
              "    .dataframe thead th {\n",
              "        text-align: right;\n",
              "    }\n",
              "</style>\n",
              "<table border=\"1\" class=\"dataframe\">\n",
              "  <thead>\n",
              "    <tr style=\"text-align: right;\">\n",
              "      <th></th>\n",
              "      <th>type</th>\n",
              "      <th>name</th>\n",
              "      <th>lat</th>\n",
              "      <th>lon</th>\n",
              "      <th>total</th>\n",
              "      <th>total_per_100k_inhabitants</th>\n",
              "    </tr>\n",
              "  </thead>\n",
              "  <tbody>\n",
              "    <tr>\n",
              "      <th>0</th>\n",
              "      <td>1</td>\n",
              "      <td>Abadia de Goiás/GO</td>\n",
              "      <td>-16.757264</td>\n",
              "      <td>-49.441221</td>\n",
              "      <td>183</td>\n",
              "      <td>2085.94551</td>\n",
              "    </tr>\n",
              "    <tr>\n",
              "      <th>1</th>\n",
              "      <td>D1</td>\n",
              "      <td>Abadia de Goiás/GO</td>\n",
              "      <td>-16.757264</td>\n",
              "      <td>-49.441221</td>\n",
              "      <td>1</td>\n",
              "      <td>11.39861</td>\n",
              "    </tr>\n",
              "    <tr>\n",
              "      <th>2</th>\n",
              "      <td>1</td>\n",
              "      <td>Abadia dos Dourados/MG</td>\n",
              "      <td>-18.491119</td>\n",
              "      <td>-47.406359</td>\n",
              "      <td>44</td>\n",
              "      <td>629.56074</td>\n",
              "    </tr>\n",
              "    <tr>\n",
              "      <th>3</th>\n",
              "      <td>D1</td>\n",
              "      <td>Abadia dos Dourados/MG</td>\n",
              "      <td>-18.491119</td>\n",
              "      <td>-47.406359</td>\n",
              "      <td>1</td>\n",
              "      <td>14.30820</td>\n",
              "    </tr>\n",
              "    <tr>\n",
              "      <th>4</th>\n",
              "      <td>1</td>\n",
              "      <td>Abadiânia/GO</td>\n",
              "      <td>-16.194095</td>\n",
              "      <td>-48.706777</td>\n",
              "      <td>77</td>\n",
              "      <td>384.19319</td>\n",
              "    </tr>\n",
              "    <tr>\n",
              "      <th>...</th>\n",
              "      <td>...</td>\n",
              "      <td>...</td>\n",
              "      <td>...</td>\n",
              "      <td>...</td>\n",
              "      <td>...</td>\n",
              "      <td>...</td>\n",
              "    </tr>\n",
              "    <tr>\n",
              "      <th>9149</th>\n",
              "      <td>1</td>\n",
              "      <td>Áurea/RS</td>\n",
              "      <td>-27.697092</td>\n",
              "      <td>-52.052178</td>\n",
              "      <td>12</td>\n",
              "      <td>337.64772</td>\n",
              "    </tr>\n",
              "    <tr>\n",
              "      <th>9150</th>\n",
              "      <td>1</td>\n",
              "      <td>Ângulo/PR</td>\n",
              "      <td>-23.195835</td>\n",
              "      <td>-51.909498</td>\n",
              "      <td>17</td>\n",
              "      <td>580.60109</td>\n",
              "    </tr>\n",
              "    <tr>\n",
              "      <th>9151</th>\n",
              "      <td>1</td>\n",
              "      <td>Óbidos/PA</td>\n",
              "      <td>-1.901072</td>\n",
              "      <td>-55.520812</td>\n",
              "      <td>933</td>\n",
              "      <td>1789.51608</td>\n",
              "    </tr>\n",
              "    <tr>\n",
              "      <th>9152</th>\n",
              "      <td>D1</td>\n",
              "      <td>Óbidos/PA</td>\n",
              "      <td>-1.901072</td>\n",
              "      <td>-55.520812</td>\n",
              "      <td>23</td>\n",
              "      <td>44.11454</td>\n",
              "    </tr>\n",
              "    <tr>\n",
              "      <th>9153</th>\n",
              "      <td>1</td>\n",
              "      <td>Óleo/SP</td>\n",
              "      <td>-22.942275</td>\n",
              "      <td>-49.340808</td>\n",
              "      <td>2</td>\n",
              "      <td>80.12821</td>\n",
              "    </tr>\n",
              "  </tbody>\n",
              "</table>\n",
              "<p>9154 rows × 6 columns</p>\n",
              "</div>"
            ],
            "text/plain": [
              "     type                    name  ...  total  total_per_100k_inhabitants\n",
              "0       1      Abadia de Goiás/GO  ...    183                  2085.94551\n",
              "1      D1      Abadia de Goiás/GO  ...      1                    11.39861\n",
              "2       1  Abadia dos Dourados/MG  ...     44                   629.56074\n",
              "3      D1  Abadia dos Dourados/MG  ...      1                    14.30820\n",
              "4       1            Abadiânia/GO  ...     77                   384.19319\n",
              "...   ...                     ...  ...    ...                         ...\n",
              "9149    1                Áurea/RS  ...     12                   337.64772\n",
              "9150    1               Ângulo/PR  ...     17                   580.60109\n",
              "9151    1               Óbidos/PA  ...    933                  1789.51608\n",
              "9152   D1               Óbidos/PA  ...     23                    44.11454\n",
              "9153    1                 Óleo/SP  ...      2                    80.12821\n",
              "\n",
              "[9154 rows x 6 columns]"
            ]
          },
          "metadata": {
            "tags": []
          },
          "execution_count": 4
        }
      ]
    },
    {
      "cell_type": "code",
      "metadata": {
        "id": "m1vnhsLD3UFD",
        "colab_type": "code",
        "colab": {
          "base_uri": "https://localhost:8080/",
          "height": 609
        },
        "outputId": "5f0ae1df-9e61-4cc3-e855-8e9290e503fb"
      },
      "source": [
        "brazil_df['mortes'] = pd.np.where(brazil_df['type'].str.contains('D1'), brazil_df['total'], 0)\n",
        "brazil_df['total'] = pd.np.where(brazil_df['type'].str.contains('D1'), 0, brazil_df['total'])\n",
        "\n",
        "brazil_df.head(15)"
      ],
      "execution_count": 5,
      "outputs": [
        {
          "output_type": "stream",
          "text": [
            "/usr/local/lib/python3.6/dist-packages/ipykernel_launcher.py:1: FutureWarning: The pandas.np module is deprecated and will be removed from pandas in a future version. Import numpy directly instead\n",
            "  \"\"\"Entry point for launching an IPython kernel.\n",
            "/usr/local/lib/python3.6/dist-packages/ipykernel_launcher.py:2: FutureWarning: The pandas.np module is deprecated and will be removed from pandas in a future version. Import numpy directly instead\n",
            "  \n"
          ],
          "name": "stderr"
        },
        {
          "output_type": "execute_result",
          "data": {
            "text/html": [
              "<div>\n",
              "<style scoped>\n",
              "    .dataframe tbody tr th:only-of-type {\n",
              "        vertical-align: middle;\n",
              "    }\n",
              "\n",
              "    .dataframe tbody tr th {\n",
              "        vertical-align: top;\n",
              "    }\n",
              "\n",
              "    .dataframe thead th {\n",
              "        text-align: right;\n",
              "    }\n",
              "</style>\n",
              "<table border=\"1\" class=\"dataframe\">\n",
              "  <thead>\n",
              "    <tr style=\"text-align: right;\">\n",
              "      <th></th>\n",
              "      <th>type</th>\n",
              "      <th>name</th>\n",
              "      <th>lat</th>\n",
              "      <th>lon</th>\n",
              "      <th>total</th>\n",
              "      <th>total_per_100k_inhabitants</th>\n",
              "      <th>mortes</th>\n",
              "    </tr>\n",
              "  </thead>\n",
              "  <tbody>\n",
              "    <tr>\n",
              "      <th>0</th>\n",
              "      <td>1</td>\n",
              "      <td>Abadia de Goiás/GO</td>\n",
              "      <td>-16.757264</td>\n",
              "      <td>-49.441221</td>\n",
              "      <td>183</td>\n",
              "      <td>2085.94551</td>\n",
              "      <td>0</td>\n",
              "    </tr>\n",
              "    <tr>\n",
              "      <th>1</th>\n",
              "      <td>D1</td>\n",
              "      <td>Abadia de Goiás/GO</td>\n",
              "      <td>-16.757264</td>\n",
              "      <td>-49.441221</td>\n",
              "      <td>0</td>\n",
              "      <td>11.39861</td>\n",
              "      <td>1</td>\n",
              "    </tr>\n",
              "    <tr>\n",
              "      <th>2</th>\n",
              "      <td>1</td>\n",
              "      <td>Abadia dos Dourados/MG</td>\n",
              "      <td>-18.491119</td>\n",
              "      <td>-47.406359</td>\n",
              "      <td>44</td>\n",
              "      <td>629.56074</td>\n",
              "      <td>0</td>\n",
              "    </tr>\n",
              "    <tr>\n",
              "      <th>3</th>\n",
              "      <td>D1</td>\n",
              "      <td>Abadia dos Dourados/MG</td>\n",
              "      <td>-18.491119</td>\n",
              "      <td>-47.406359</td>\n",
              "      <td>0</td>\n",
              "      <td>14.30820</td>\n",
              "      <td>1</td>\n",
              "    </tr>\n",
              "    <tr>\n",
              "      <th>4</th>\n",
              "      <td>1</td>\n",
              "      <td>Abadiânia/GO</td>\n",
              "      <td>-16.194095</td>\n",
              "      <td>-48.706777</td>\n",
              "      <td>77</td>\n",
              "      <td>384.19319</td>\n",
              "      <td>0</td>\n",
              "    </tr>\n",
              "    <tr>\n",
              "      <th>5</th>\n",
              "      <td>D1</td>\n",
              "      <td>Abadiânia/GO</td>\n",
              "      <td>-16.194095</td>\n",
              "      <td>-48.706777</td>\n",
              "      <td>0</td>\n",
              "      <td>39.91618</td>\n",
              "      <td>8</td>\n",
              "    </tr>\n",
              "    <tr>\n",
              "      <th>6</th>\n",
              "      <td>1</td>\n",
              "      <td>Abaetetuba/PA</td>\n",
              "      <td>-1.721828</td>\n",
              "      <td>-48.878843</td>\n",
              "      <td>2772</td>\n",
              "      <td>1757.79021</td>\n",
              "      <td>0</td>\n",
              "    </tr>\n",
              "    <tr>\n",
              "      <th>7</th>\n",
              "      <td>D1</td>\n",
              "      <td>Abaetetuba/PA</td>\n",
              "      <td>-1.721828</td>\n",
              "      <td>-48.878843</td>\n",
              "      <td>0</td>\n",
              "      <td>69.11946</td>\n",
              "      <td>109</td>\n",
              "    </tr>\n",
              "    <tr>\n",
              "      <th>8</th>\n",
              "      <td>1</td>\n",
              "      <td>Abaeté/MG</td>\n",
              "      <td>-19.156683</td>\n",
              "      <td>-45.448121</td>\n",
              "      <td>26</td>\n",
              "      <td>111.89052</td>\n",
              "      <td>0</td>\n",
              "    </tr>\n",
              "    <tr>\n",
              "      <th>9</th>\n",
              "      <td>1</td>\n",
              "      <td>Abaiara/CE</td>\n",
              "      <td>-7.360781</td>\n",
              "      <td>-39.048788</td>\n",
              "      <td>60</td>\n",
              "      <td>511.20389</td>\n",
              "      <td>0</td>\n",
              "    </tr>\n",
              "    <tr>\n",
              "      <th>10</th>\n",
              "      <td>D1</td>\n",
              "      <td>Abaiara/CE</td>\n",
              "      <td>-7.360781</td>\n",
              "      <td>-39.048788</td>\n",
              "      <td>0</td>\n",
              "      <td>17.04013</td>\n",
              "      <td>2</td>\n",
              "    </tr>\n",
              "    <tr>\n",
              "      <th>11</th>\n",
              "      <td>1</td>\n",
              "      <td>Abaré/BA</td>\n",
              "      <td>-8.723991</td>\n",
              "      <td>-39.113969</td>\n",
              "      <td>39</td>\n",
              "      <td>194.16509</td>\n",
              "      <td>0</td>\n",
              "    </tr>\n",
              "    <tr>\n",
              "      <th>12</th>\n",
              "      <td>1</td>\n",
              "      <td>Abatiá/PR</td>\n",
              "      <td>-23.305297</td>\n",
              "      <td>-50.310253</td>\n",
              "      <td>56</td>\n",
              "      <td>750.97224</td>\n",
              "      <td>0</td>\n",
              "    </tr>\n",
              "    <tr>\n",
              "      <th>13</th>\n",
              "      <td>1</td>\n",
              "      <td>Abaíra/BA</td>\n",
              "      <td>-13.250330</td>\n",
              "      <td>-41.664034</td>\n",
              "      <td>9</td>\n",
              "      <td>102.98661</td>\n",
              "      <td>0</td>\n",
              "    </tr>\n",
              "    <tr>\n",
              "      <th>14</th>\n",
              "      <td>1</td>\n",
              "      <td>Abdon Batista/SC</td>\n",
              "      <td>-27.612419</td>\n",
              "      <td>-51.022992</td>\n",
              "      <td>79</td>\n",
              "      <td>3082.32540</td>\n",
              "      <td>0</td>\n",
              "    </tr>\n",
              "  </tbody>\n",
              "</table>\n",
              "</div>"
            ],
            "text/plain": [
              "   type                    name  ...  total_per_100k_inhabitants  mortes\n",
              "0     1      Abadia de Goiás/GO  ...                  2085.94551       0\n",
              "1    D1      Abadia de Goiás/GO  ...                    11.39861       1\n",
              "2     1  Abadia dos Dourados/MG  ...                   629.56074       0\n",
              "3    D1  Abadia dos Dourados/MG  ...                    14.30820       1\n",
              "4     1            Abadiânia/GO  ...                   384.19319       0\n",
              "5    D1            Abadiânia/GO  ...                    39.91618       8\n",
              "6     1           Abaetetuba/PA  ...                  1757.79021       0\n",
              "7    D1           Abaetetuba/PA  ...                    69.11946     109\n",
              "8     1               Abaeté/MG  ...                   111.89052       0\n",
              "9     1              Abaiara/CE  ...                   511.20389       0\n",
              "10   D1              Abaiara/CE  ...                    17.04013       2\n",
              "11    1                Abaré/BA  ...                   194.16509       0\n",
              "12    1               Abatiá/PR  ...                   750.97224       0\n",
              "13    1               Abaíra/BA  ...                   102.98661       0\n",
              "14    1        Abdon Batista/SC  ...                  3082.32540       0\n",
              "\n",
              "[15 rows x 7 columns]"
            ]
          },
          "metadata": {
            "tags": []
          },
          "execution_count": 5
        }
      ]
    },
    {
      "cell_type": "code",
      "metadata": {
        "id": "dGegHp0HDkSo",
        "colab_type": "code",
        "colab": {
          "base_uri": "https://localhost:8080/",
          "height": 34
        },
        "outputId": "8002e93e-d49a-4443-e8ca-7234083a4221"
      },
      "source": [
        "today = date.today()\n",
        "\n",
        "hj = today.strftime(\"%d/%m/%Y\")\n",
        "\n",
        "brazil_df['total'].unique()"
      ],
      "execution_count": 20,
      "outputs": [
        {
          "output_type": "execute_result",
          "data": {
            "text/plain": [
              "array([ 183,    0,   44, ..., 2901,  573, 1449])"
            ]
          },
          "metadata": {
            "tags": []
          },
          "execution_count": 20
        }
      ]
    },
    {
      "cell_type": "markdown",
      "metadata": {
        "id": "zD4L6Q8bAjJe",
        "colab_type": "text"
      },
      "source": [
        "## Plotando sobre o mapa\n"
      ]
    },
    {
      "cell_type": "code",
      "metadata": {
        "id": "brG2r8zLXmuZ",
        "colab_type": "code",
        "colab": {}
      },
      "source": [
        "#Definindo o tamanho dos circulos\n",
        "brazil_df['size']=brazil_df['total'].apply(lambda total:12 if total>=900 else\n",
        "                                           10 if total>=400 and total<900 else \n",
        "                                           9 if total>=200 and total<400 else 3)\n",
        "\n",
        "#plotando o mapa, em PB\n",
        "mapa = folium.Map(location=[-15.788497,-47.879873],tiles='CartoDB dark_matter', \n",
        "                  zoom_start=4)\n",
        "\n",
        "total_casos = 0\n",
        "for i in brazil_df['total']:\n",
        "  total_casos = total_casos + i\n",
        "\n",
        "total_obitos = 0\n",
        "for i in brazil_df['mortes']:\n",
        "  total_obitos = total_obitos + i\n",
        "\n",
        "#Marcação dos pontos\n",
        "for lat,lon,cidade,total,mortes,size,tipo in zip(brazil_df['lat'], brazil_df['lon'],\n",
        "                                                 brazil_df['name'], brazil_df['total'],\n",
        "                                                 brazil_df['mortes'],brazil_df['size'],\n",
        "                                                 brazil_df['type']):\n",
        "  if 'NÃO' in cidade:\n",
        "    texto = \"{}<br> Casos: {:,}\"\n",
        "    cor = 'orange'\n",
        "    texto = texto.format(cidade, total)\n",
        "  elif (tipo == 'D1') or (tipo == 'D0') :\n",
        "    texto = \"{}<br> Óbitos: {:,}\"\n",
        "    cor = 'black'\n",
        "    texto = texto.format(cidade, mortes)\n",
        "    size = 0.1\n",
        "  else:\n",
        "    texto = \"{}<br> Casos: {:,}\"\n",
        "    cor = 'red'\n",
        "    texto = texto.format(cidade, total)\n",
        "\n",
        "  folium.CircleMarker([lat,lon], radius=size, popup=texto, color=cor, \n",
        "                      fill=True, fill_opacity=0.9, fill_color='darkred').add_to(mapa)\n",
        "\n",
        "txt = \"Total no Brasil<br>de casos: {:,} <br>de mortes: {:,} <br>data: {:}\"\n",
        "txt = txt.format(total_casos, total_obitos, hj)\n",
        "popup = folium.Popup(txt, max_width=300)\n",
        "icon = folium.Icon(color='black', icon='info-sign')\n",
        "marcador = folium.Marker(location=[-15.6914,-25.8008], popup=popup, icon=icon)\n",
        "\n",
        "mapa.add_child(marcador)\n",
        "\n",
        "mapa.save('Brasil_covid19.html')\n",
        "#mapa"
      ],
      "execution_count": 23,
      "outputs": []
    },
    {
      "cell_type": "code",
      "metadata": {
        "id": "h6a-mW1ega3y",
        "colab_type": "code",
        "colab": {}
      },
      "source": [
        "#plotando o mapa, em PB\n",
        "mapa = folium.Map(location=[-15.788497,-47.879873],tiles='CartoDB dark_matter', \n",
        "                  zoom_start=4)\n",
        "\n",
        "txt = \"Total no Brasil<br>de casos: {:,} <br>de mortes: {:,} <br>data: {:}\"\n",
        "txt = txt.format(total_casos, total_obitos, hj)\n",
        "popup = folium.Popup(txt, max_width=300)\n",
        "icon = folium.Icon(color='black', icon='info-sign')\n",
        "marcador = folium.Marker(location=[-15.6914,-25.8008], popup=popup, icon=icon)\n",
        "\n",
        "mapa.add_child(marcador)\n",
        "\n",
        "#Mapa de calor\n",
        "mapa_calor = brazil_df[['lat', 'lon', 'total']].values #.as_matrix()\n",
        "mapa.add_child(plugins.HeatMap(mapa_calor, radius=15))\n",
        "\n",
        "\n",
        "mapa.save('Brasil_covid19-calor.html')\n",
        "#mapa"
      ],
      "execution_count": 25,
      "outputs": []
    },
    {
      "cell_type": "code",
      "metadata": {
        "id": "WW9vigFQRuCU",
        "colab_type": "code",
        "colab": {}
      },
      "source": [
        ""
      ],
      "execution_count": null,
      "outputs": []
    }
  ]
}