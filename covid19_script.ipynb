{
  "nbformat": 4,
  "nbformat_minor": 0,
  "metadata": {
    "colab": {
      "name": "covid19-script",
      "provenance": [],
      "collapsed_sections": [],
      "toc_visible": true
    },
    "kernelspec": {
      "name": "python3",
      "display_name": "Python 3"
    }
  },
  "cells": [
    {
      "cell_type": "markdown",
      "metadata": {
        "id": "PTjW9YGBcjBi",
        "colab_type": "text"
      },
      "source": [
        "# Bibliotecas e *drives*"
      ]
    },
    {
      "cell_type": "code",
      "metadata": {
        "id": "oBMTZER1e3zQ",
        "colab_type": "code",
        "colab": {}
      },
      "source": [
        "import pandas as pd\n",
        "import numpy as np\n",
        "import matplotlib.pyplot as plt\n",
        "from datetime import date, timedelta\n",
        "%matplotlib inline"
      ],
      "execution_count": 0,
      "outputs": []
    },
    {
      "cell_type": "code",
      "metadata": {
        "id": "5mDGqyUbudOC",
        "colab_type": "code",
        "colab": {}
      },
      "source": [
        "from sklearn.model_selection import train_test_split\n",
        "from sklearn.linear_model import LinearRegression\n",
        "from sklearn.preprocessing import PolynomialFeatures\n",
        "from sklearn.metrics.regression import r2_score"
      ],
      "execution_count": 0,
      "outputs": []
    },
    {
      "cell_type": "markdown",
      "metadata": {
        "id": "56cPnj9V20o6",
        "colab_type": "text"
      },
      "source": [
        "*acessando minha pasta do Gdrive onde estão as informações que preciso*"
      ]
    },
    {
      "cell_type": "code",
      "metadata": {
        "id": "eUixfkIoiHGT",
        "colab_type": "code",
        "colab": {}
      },
      "source": [
        "#from google.colab import drive # Essa célula monta o drive, vai exigir autenticação para ler e manipular os arquivos\n",
        "#drive.mount('/content/gdrive') # autenticação, copiar a chave de acesso que será disponibilizada\n",
        "\n",
        "### optei por não usar, pois o google disponibilizou uma função para isso"
      ],
      "execution_count": 0,
      "outputs": []
    },
    {
      "cell_type": "code",
      "metadata": {
        "id": "Z1D7I4xvieOO",
        "colab_type": "code",
        "outputId": "5dbc69f3-9862-4bb4-ea57-ffcd7eaf97bd",
        "colab": {
          "base_uri": "https://localhost:8080/",
          "height": 34
        }
      },
      "source": [
        "#acessando a pasta\n",
        "%cd /content/drive/My\\ Drive/Colab\\ Notebooks/covid19"
      ],
      "execution_count": 33,
      "outputs": [
        {
          "output_type": "stream",
          "text": [
            "/content/drive/My Drive/Colab Notebooks/covid19\n"
          ],
          "name": "stdout"
        }
      ]
    },
    {
      "cell_type": "code",
      "metadata": {
        "id": "UYEOft12j7NC",
        "colab_type": "code",
        "outputId": "5fadb144-07e3-4a78-8432-a96d46568483",
        "colab": {
          "base_uri": "https://localhost:8080/",
          "height": 52
        }
      },
      "source": [
        "!ls #verificando o conteudo da pasta"
      ],
      "execution_count": 34,
      "outputs": [
        {
          "output_type": "stream",
          "text": [
            "covid19-script.ipynb\tfull_data_20200321.csv\tfull_data_20200323.csv\n",
            "full_data_20200320.csv\tfull_data_20200322.csv\tteste.png\n"
          ],
          "name": "stdout"
        }
      ]
    },
    {
      "cell_type": "markdown",
      "metadata": {
        "id": "_7yKuUJSkIKO",
        "colab_type": "text"
      },
      "source": [
        "# Carregando o banco de dados"
      ]
    },
    {
      "cell_type": "code",
      "metadata": {
        "id": "TmI3ziP0kOtv",
        "colab_type": "code",
        "outputId": "fbd158bd-81eb-4375-b6fd-d26b2133c03e",
        "colab": {
          "base_uri": "https://localhost:8080/",
          "height": 206
        }
      },
      "source": [
        "full_df = pd.read_csv('full_data_20200323.csv')\n",
        "full_df.head()"
      ],
      "execution_count": 0,
      "outputs": [
        {
          "output_type": "execute_result",
          "data": {
            "text/html": [
              "<div>\n",
              "<style scoped>\n",
              "    .dataframe tbody tr th:only-of-type {\n",
              "        vertical-align: middle;\n",
              "    }\n",
              "\n",
              "    .dataframe tbody tr th {\n",
              "        vertical-align: top;\n",
              "    }\n",
              "\n",
              "    .dataframe thead th {\n",
              "        text-align: right;\n",
              "    }\n",
              "</style>\n",
              "<table border=\"1\" class=\"dataframe\">\n",
              "  <thead>\n",
              "    <tr style=\"text-align: right;\">\n",
              "      <th></th>\n",
              "      <th>date</th>\n",
              "      <th>location</th>\n",
              "      <th>new_cases</th>\n",
              "      <th>new_deaths</th>\n",
              "      <th>total_cases</th>\n",
              "      <th>total_deaths</th>\n",
              "    </tr>\n",
              "  </thead>\n",
              "  <tbody>\n",
              "    <tr>\n",
              "      <th>0</th>\n",
              "      <td>2019-12-31</td>\n",
              "      <td>Afghanistan</td>\n",
              "      <td>0</td>\n",
              "      <td>0</td>\n",
              "      <td>0</td>\n",
              "      <td>0</td>\n",
              "    </tr>\n",
              "    <tr>\n",
              "      <th>1</th>\n",
              "      <td>2020-01-01</td>\n",
              "      <td>Afghanistan</td>\n",
              "      <td>0</td>\n",
              "      <td>0</td>\n",
              "      <td>0</td>\n",
              "      <td>0</td>\n",
              "    </tr>\n",
              "    <tr>\n",
              "      <th>2</th>\n",
              "      <td>2020-01-02</td>\n",
              "      <td>Afghanistan</td>\n",
              "      <td>0</td>\n",
              "      <td>0</td>\n",
              "      <td>0</td>\n",
              "      <td>0</td>\n",
              "    </tr>\n",
              "    <tr>\n",
              "      <th>3</th>\n",
              "      <td>2020-01-03</td>\n",
              "      <td>Afghanistan</td>\n",
              "      <td>0</td>\n",
              "      <td>0</td>\n",
              "      <td>0</td>\n",
              "      <td>0</td>\n",
              "    </tr>\n",
              "    <tr>\n",
              "      <th>4</th>\n",
              "      <td>2020-01-04</td>\n",
              "      <td>Afghanistan</td>\n",
              "      <td>0</td>\n",
              "      <td>0</td>\n",
              "      <td>0</td>\n",
              "      <td>0</td>\n",
              "    </tr>\n",
              "  </tbody>\n",
              "</table>\n",
              "</div>"
            ],
            "text/plain": [
              "         date     location  new_cases  new_deaths  total_cases  total_deaths\n",
              "0  2019-12-31  Afghanistan          0           0            0             0\n",
              "1  2020-01-01  Afghanistan          0           0            0             0\n",
              "2  2020-01-02  Afghanistan          0           0            0             0\n",
              "3  2020-01-03  Afghanistan          0           0            0             0\n",
              "4  2020-01-04  Afghanistan          0           0            0             0"
            ]
          },
          "metadata": {
            "tags": []
          },
          "execution_count": 9
        }
      ]
    },
    {
      "cell_type": "code",
      "metadata": {
        "id": "vcer8GNzkc4Z",
        "colab_type": "code",
        "colab": {}
      },
      "source": [
        "brazil_df = full_df[full_df['location']=='Brazil']\n",
        "china_df = full_df[full_df['location']=='China']\n",
        "italy_df = full_df[full_df['location']=='Italy']\n",
        "usa_df = full_df[full_df['location']=='United States']\n",
        "iran_df = full_df[full_df['location']=='Iran']\n",
        "spain_df = full_df[full_df['location'] == 'Spain']\n",
        "canada_df = full_df[full_df['location'] == 'Canada']"
      ],
      "execution_count": 0,
      "outputs": []
    },
    {
      "cell_type": "code",
      "metadata": {
        "id": "RL8aeeEBpa_j",
        "colab_type": "code",
        "outputId": "ac5cc12d-c5c1-4e7a-9634-864bedad7a2b",
        "colab": {
          "base_uri": "https://localhost:8080/",
          "height": 206
        }
      },
      "source": [
        "canada_df.head()"
      ],
      "execution_count": 0,
      "outputs": [
        {
          "output_type": "execute_result",
          "data": {
            "text/html": [
              "<div>\n",
              "<style scoped>\n",
              "    .dataframe tbody tr th:only-of-type {\n",
              "        vertical-align: middle;\n",
              "    }\n",
              "\n",
              "    .dataframe tbody tr th {\n",
              "        vertical-align: top;\n",
              "    }\n",
              "\n",
              "    .dataframe thead th {\n",
              "        text-align: right;\n",
              "    }\n",
              "</style>\n",
              "<table border=\"1\" class=\"dataframe\">\n",
              "  <thead>\n",
              "    <tr style=\"text-align: right;\">\n",
              "      <th></th>\n",
              "      <th>date</th>\n",
              "      <th>location</th>\n",
              "      <th>new_cases</th>\n",
              "      <th>new_deaths</th>\n",
              "      <th>total_cases</th>\n",
              "      <th>total_deaths</th>\n",
              "    </tr>\n",
              "  </thead>\n",
              "  <tbody>\n",
              "    <tr>\n",
              "      <th>1033</th>\n",
              "      <td>2019-12-31</td>\n",
              "      <td>Canada</td>\n",
              "      <td>0</td>\n",
              "      <td>0</td>\n",
              "      <td>0</td>\n",
              "      <td>0</td>\n",
              "    </tr>\n",
              "    <tr>\n",
              "      <th>1034</th>\n",
              "      <td>2020-01-01</td>\n",
              "      <td>Canada</td>\n",
              "      <td>0</td>\n",
              "      <td>0</td>\n",
              "      <td>0</td>\n",
              "      <td>0</td>\n",
              "    </tr>\n",
              "    <tr>\n",
              "      <th>1035</th>\n",
              "      <td>2020-01-02</td>\n",
              "      <td>Canada</td>\n",
              "      <td>0</td>\n",
              "      <td>0</td>\n",
              "      <td>0</td>\n",
              "      <td>0</td>\n",
              "    </tr>\n",
              "    <tr>\n",
              "      <th>1036</th>\n",
              "      <td>2020-01-03</td>\n",
              "      <td>Canada</td>\n",
              "      <td>0</td>\n",
              "      <td>0</td>\n",
              "      <td>0</td>\n",
              "      <td>0</td>\n",
              "    </tr>\n",
              "    <tr>\n",
              "      <th>1037</th>\n",
              "      <td>2020-01-04</td>\n",
              "      <td>Canada</td>\n",
              "      <td>0</td>\n",
              "      <td>0</td>\n",
              "      <td>0</td>\n",
              "      <td>0</td>\n",
              "    </tr>\n",
              "  </tbody>\n",
              "</table>\n",
              "</div>"
            ],
            "text/plain": [
              "            date location  new_cases  new_deaths  total_cases  total_deaths\n",
              "1033  2019-12-31   Canada          0           0            0             0\n",
              "1034  2020-01-01   Canada          0           0            0             0\n",
              "1035  2020-01-02   Canada          0           0            0             0\n",
              "1036  2020-01-03   Canada          0           0            0             0\n",
              "1037  2020-01-04   Canada          0           0            0             0"
            ]
          },
          "metadata": {
            "tags": []
          },
          "execution_count": 11
        }
      ]
    },
    {
      "cell_type": "code",
      "metadata": {
        "id": "nrnqLraLbBa7",
        "colab_type": "code",
        "colab": {}
      },
      "source": [
        "brazil_df = brazil_df[brazil_df['total_cases'] != 0].reset_index()\n",
        "china_df = china_df[china_df['total_cases'] != 0].reset_index()\n",
        "italy_df = italy_df[italy_df['total_cases'] != 0].reset_index()\n",
        "usa_df = usa_df[usa_df['total_cases'] != 0].reset_index()\n",
        "iran_df = iran_df[iran_df['total_cases'] != 0].reset_index()\n",
        "spain_df = spain_df[spain_df['total_cases'] != 0].reset_index()\n",
        "canada_df = canada_df[canada_df['total_cases'] != 0].reset_index()"
      ],
      "execution_count": 0,
      "outputs": []
    },
    {
      "cell_type": "code",
      "metadata": {
        "id": "NoPXqoZ_ooQC",
        "colab_type": "code",
        "outputId": "098647c8-355d-426b-f409-d371391c1fca",
        "colab": {
          "base_uri": "https://localhost:8080/",
          "height": 206
        }
      },
      "source": [
        "canada_df.head()"
      ],
      "execution_count": 0,
      "outputs": [
        {
          "output_type": "execute_result",
          "data": {
            "text/html": [
              "<div>\n",
              "<style scoped>\n",
              "    .dataframe tbody tr th:only-of-type {\n",
              "        vertical-align: middle;\n",
              "    }\n",
              "\n",
              "    .dataframe tbody tr th {\n",
              "        vertical-align: top;\n",
              "    }\n",
              "\n",
              "    .dataframe thead th {\n",
              "        text-align: right;\n",
              "    }\n",
              "</style>\n",
              "<table border=\"1\" class=\"dataframe\">\n",
              "  <thead>\n",
              "    <tr style=\"text-align: right;\">\n",
              "      <th></th>\n",
              "      <th>index</th>\n",
              "      <th>date</th>\n",
              "      <th>location</th>\n",
              "      <th>new_cases</th>\n",
              "      <th>new_deaths</th>\n",
              "      <th>total_cases</th>\n",
              "      <th>total_deaths</th>\n",
              "    </tr>\n",
              "  </thead>\n",
              "  <tbody>\n",
              "    <tr>\n",
              "      <th>0</th>\n",
              "      <td>1059</td>\n",
              "      <td>2020-01-26</td>\n",
              "      <td>Canada</td>\n",
              "      <td>1</td>\n",
              "      <td>0</td>\n",
              "      <td>1</td>\n",
              "      <td>0</td>\n",
              "    </tr>\n",
              "    <tr>\n",
              "      <th>1</th>\n",
              "      <td>1060</td>\n",
              "      <td>2020-01-27</td>\n",
              "      <td>Canada</td>\n",
              "      <td>0</td>\n",
              "      <td>0</td>\n",
              "      <td>1</td>\n",
              "      <td>0</td>\n",
              "    </tr>\n",
              "    <tr>\n",
              "      <th>2</th>\n",
              "      <td>1061</td>\n",
              "      <td>2020-01-28</td>\n",
              "      <td>Canada</td>\n",
              "      <td>1</td>\n",
              "      <td>0</td>\n",
              "      <td>2</td>\n",
              "      <td>0</td>\n",
              "    </tr>\n",
              "    <tr>\n",
              "      <th>3</th>\n",
              "      <td>1062</td>\n",
              "      <td>2020-01-29</td>\n",
              "      <td>Canada</td>\n",
              "      <td>1</td>\n",
              "      <td>0</td>\n",
              "      <td>3</td>\n",
              "      <td>0</td>\n",
              "    </tr>\n",
              "    <tr>\n",
              "      <th>4</th>\n",
              "      <td>1063</td>\n",
              "      <td>2020-01-30</td>\n",
              "      <td>Canada</td>\n",
              "      <td>0</td>\n",
              "      <td>0</td>\n",
              "      <td>3</td>\n",
              "      <td>0</td>\n",
              "    </tr>\n",
              "  </tbody>\n",
              "</table>\n",
              "</div>"
            ],
            "text/plain": [
              "   index        date location  new_cases  new_deaths  total_cases  total_deaths\n",
              "0   1059  2020-01-26   Canada          1           0            1             0\n",
              "1   1060  2020-01-27   Canada          0           0            1             0\n",
              "2   1061  2020-01-28   Canada          1           0            2             0\n",
              "3   1062  2020-01-29   Canada          1           0            3             0\n",
              "4   1063  2020-01-30   Canada          0           0            3             0"
            ]
          },
          "metadata": {
            "tags": []
          },
          "execution_count": 13
        }
      ]
    },
    {
      "cell_type": "markdown",
      "metadata": {
        "id": "a1MTWyl7rszk",
        "colab_type": "text"
      },
      "source": [
        "# Plotando"
      ]
    },
    {
      "cell_type": "code",
      "metadata": {
        "id": "9ykWvmfkryYo",
        "colab_type": "code",
        "colab": {}
      },
      "source": [
        "fig = plt.figure(figsize=(12,8))\n",
        "\n",
        "#plotando o principal\n",
        "ax1 = plt.subplot2grid((4,4), (0,0), colspan=4, rowspan=3)\n",
        "ax1.axis([0, 90, -1, 90000])\n",
        "ax1.plot(china_df.index, china_df['total_cases'], linewidth=4, color='red', \n",
        "         label='China')\n",
        "ax1.plot(usa_df.index, usa_df['total_cases'], linewidth=4, color='darkblue', \n",
        "         label='USA')\n",
        "ax1.plot(canada_df.index, canada_df['total_cases'], linewidth=4, \n",
        "         color='lightgreen', label='Canada')\n",
        "ax1.plot(italy_df.index, italy_df['total_cases'], linewidth=4, color='green', \n",
        "         label='Itália')\n",
        "ax1.plot(spain_df.index, spain_df['total_cases'], linewidth=4, color='darkred', \n",
        "         label='Espanha')\n",
        "ax1.plot(iran_df.index, iran_df['total_cases'], linewidth=4, color='orange', \n",
        "         label='Irã')\n",
        "ax1.plot(brazil_df.index, brazil_df['total_cases'], linewidth=4, label='Brasil')\n",
        "ax1.grid(ls='-.', lw=0.45)\n",
        "ax1.legend(fontsize=12)\n",
        "ax1.set_title('Evolução dos casos de covid-19, ano 2020', fontsize=20, \n",
        "              weight='bold')\n",
        "ax1.set_xlabel('Dias Desde o Dia ZERO', weight='bold', fontsize=12)\n",
        "ax1.set_ylabel('Total de Casos', weight='bold', fontsize=12)\n",
        "\n",
        "#zoom para destacar o Brasil\n",
        "ax2 = plt.subplot2grid((4,4), (3,1), colspan=2, rowspan=1)\n",
        "ax2.axis([0, 60, -1, 2000])\n",
        "ax2.plot(china_df.index, china_df['total_cases'], linewidth=4, color='red', \n",
        "         label='China')\n",
        "ax2.plot(usa_df.index, usa_df['total_cases'], linewidth=4, color='darkblue', \n",
        "         label='USA')\n",
        "ax2.plot(canada_df.index, canada_df['total_cases'], linewidth=4, \n",
        "         color='lightgreen', label='Canada')\n",
        "ax2.plot(italy_df.index, italy_df['total_cases'], linewidth=4, color='green', \n",
        "         label='Itália')\n",
        "ax2.plot(spain_df.index, spain_df['total_cases'], linewidth=4, color='darkred', \n",
        "         label='Espanha')\n",
        "ax2.plot(iran_df.index, iran_df['total_cases'], linewidth=4, color='orange', \n",
        "         label='Irã')\n",
        "ax2.plot(brazil_df.index, brazil_df['total_cases'], linewidth=4, label='Brasil')\n",
        "ax2.grid(ls='-.', lw=0.45)\n",
        "ax2.set_title('Zoom para destacar o Brasil')\n",
        "\n",
        "fig.tight_layout(pad=1.0)\n",
        "\n",
        "#visao artistica\n",
        "ax = plt.gca()\n",
        "text_box = 'Dia ZERO: \\n China: 31/12/2019 \\n USA: 21/01/2020'\\\n",
        "           '\\n Canadá: 26/01/2020 \\n Itália: 31/01/2020 \\n Espanha: 01/02/2020'\\\n",
        "           ' \\n Irã: 20/02/2020 \\n Brasil: 26/02/2020'\n",
        "prop = dict(boxstyle='round', facecolor='wheat', alpha=0.7)\n",
        "ax.text(1.15, 2.2, text_box, transform=ax.transAxes, fontsize=12,\n",
        "        verticalalignment='bottom', bbox=prop)\n",
        "\n",
        "plt.show()"
      ],
      "execution_count": 0,
      "outputs": []
    },
    {
      "cell_type": "markdown",
      "metadata": {
        "id": "s8jBOu8quY05",
        "colab_type": "text"
      },
      "source": [
        "### Treinando o Modelo"
      ]
    },
    {
      "cell_type": "code",
      "metadata": {
        "id": "839ZeSe1wgAL",
        "colab_type": "code",
        "colab": {}
      },
      "source": [
        "model = LinearRegression()\n",
        "orders = np.arange(0,10)\n",
        "r2_train = np.zeros(10)\n",
        "r2_test = np.zeros(10)\n",
        "\n",
        "#X = china_df.index\n",
        "#y = china_df['total_cases']\n",
        "X = brazil_df.index\n",
        "y = brazil_df['total_cases']\n",
        "#X = usa_df.index\n",
        "#y = usa_df['total_cases']\n",
        "\n",
        "X_train, X_test, y_train, y_test = train_test_split(X, y, random_state=0)\n",
        "\n",
        "X_tr = X_train.values.reshape(-1,1)\n",
        "X_ts = X_test.values.reshape(-1,1)\n",
        "\n",
        "for i in range(len(orders)):\n",
        "  poly = PolynomialFeatures(degree=orders[i])\n",
        "\n",
        "  X_tr_poly = poly.fit_transform(X_tr)\n",
        "  X_ts_poly = poly.fit_transform(X_ts)\n",
        "  \n",
        "  model.fit(X_tr_poly, y_train)\n",
        "\n",
        "  r2_train[i] = r2_score(y_train, model.predict(X_tr_poly))\n",
        "  r2_test[i] = r2_score(y_test, model.predict(X_ts_poly))\n",
        "  if i>0:\n",
        "    if r2_train[i] > r2_train[i-1]:\n",
        "      max_r2_train = r2_train[i]\n",
        "      i_r2_train = i\n",
        "    if r2_test[i] > r2_test[i-1]:\n",
        "      max_r2_test = r2_test[i]\n",
        "      i_r2_test = i\n",
        "\n",
        "print(i_r2_train, max_r2_train, i_r2_test, max_r2_test)\n"
      ],
      "execution_count": 0,
      "outputs": []
    },
    {
      "cell_type": "markdown",
      "metadata": {
        "id": "n5K_J0o5nKyE",
        "colab_type": "text"
      },
      "source": [
        "#### Plotando"
      ]
    },
    {
      "cell_type": "code",
      "metadata": {
        "id": "IkvMoBBYiMU1",
        "colab_type": "code",
        "colab": {}
      },
      "source": [
        "plt.figure(figsize=(12,6))\n",
        "\n",
        "plt.plot(china_df.index, china_df['total_cases'], linewidth=4, color='red', label='China')\n",
        "plt.plot(usa_df.index, usa_df['total_cases'], linewidth=4, color='darkblue', label='USA')\n",
        "plt.plot(italy_df.index, italy_df['total_cases'], linewidth=4, color='green', label='Itália')\n",
        "plt.plot(spain_df.index, spain_df['total_cases'], linewidth=4, color='darkred', label='Espanha')\n",
        "plt.plot(iran_df.index, iran_df['total_cases'], linewidth=4, color='orange', label='Irã')\n",
        "plt.plot(brazil_df.index, brazil_df['total_cases'], linewidth=4, label='Brasil')\n",
        "\n",
        "#fazendo a previsao conforme o modelo de acao do Brasil\n",
        "def plot_model(local, ordem, cor):\n",
        "  X = local.index\n",
        "  y = local['total_cases']\n",
        "  X_predict = np.arange(0,80).reshape(-1,1)\n",
        "  poly = PolynomialFeatures(degree=orders[ordem])\n",
        "  X1 = X.values.reshape(-1,1)\n",
        "  X_poly = poly.fit_transform(X1)\n",
        "  model.fit(X_poly, y)\n",
        "\n",
        "  plt.plot(X_predict, model.predict(poly.fit_transform(X_predict)), '--', color=cor)\n",
        "  for i in np.arange(30.0,60.0,10.0):\n",
        "    day = model.predict(poly.fit_transform([[i]]))\n",
        "    plt.text(7+i, 85000, 'd%1.0f : %1.0f,'%(i, day))\n",
        "\n",
        "plot_model(brazil_df, 3, 'black')\n",
        "#plot_model(china_df, 7, 'red')\n",
        "#plot_model(usa_df, 9, 'blue')\n",
        "\n",
        "#formatando o grafico\n",
        "plt.legend(fontsize=12)\n",
        "plt.title('Previsão de evolução dos casos de covid-19 \\n para o Brasil na '\\\n",
        "          'hipótese de nada se alterar, ano 2020', fontsize=20, weight='bold')\n",
        "plt.ylabel('Total de Casos', fontsize=12)\n",
        "plt.xlabel('Dias Desde o Dia ZERO', fontsize=12)\n",
        "plt.xticks(fontsize=10)\n",
        "\n",
        "#visao artistica\n",
        "ax = plt.gca()\n",
        "ax.axis([0, 90, -1,90000])\n",
        "ax.spines['top'].set_visible(False)\n",
        "ax.spines['right'].set_visible(False)\n",
        "ax.grid(ls='-.', lw=0.45)\n",
        "\n",
        "text_box = 'Dia ZERO: \\n China: 31/12/2019 \\n USA: 21/01/2020'\\\n",
        "           '\\n Canadá: 26/01/2020 \\n Itália: 31/01/2020 \\n Espanha: 01/02/2020'\\\n",
        "           ' \\n Irã: 20/02/2020 \\n Brasil: 26/02/2020'\n",
        "prop = dict(boxstyle='round', facecolor='wheat', alpha=0.7)\n",
        "ax.text(0.75, 0.15, text_box, transform=ax.transAxes, fontsize=14,\n",
        "        verticalalignment='bottom', bbox=prop)\n",
        "\n",
        "plt.show()"
      ],
      "execution_count": 0,
      "outputs": []
    },
    {
      "cell_type": "markdown",
      "metadata": {
        "id": "JC9Yd22CYN3z",
        "colab_type": "text"
      },
      "source": [
        "## Verificando o número de *mortes*\n"
      ]
    },
    {
      "cell_type": "markdown",
      "metadata": {
        "id": "5ScIdXEJ2HZf",
        "colab_type": "text"
      },
      "source": [
        "*usando um gráfico*"
      ]
    },
    {
      "cell_type": "code",
      "metadata": {
        "id": "s_75_CiuYVzR",
        "colab_type": "code",
        "colab": {}
      },
      "source": [
        "fig = plt.figure(figsize=(12,8))\n",
        "\n",
        "#plotando o principal\n",
        "ax1 = plt.subplot2grid((4,4), (0,0), colspan=4, rowspan=3)\n",
        "ax1.axis([0, 90, -1, 5000])\n",
        "ax1.plot(china_df.index, china_df['total_deaths'], linewidth=4, color='red', \n",
        "         label='China')\n",
        "ax1.plot(usa_df.index, usa_df['total_deaths'], linewidth=4, color='darkblue', \n",
        "         label='USA')\n",
        "ax1.plot(canada_df.index, canada_df['total_cases'], linewidth=4, \n",
        "         color='lightgreen', label='Canada')\n",
        "ax1.plot(italy_df.index, italy_df['total_deaths'], linewidth=4, color='green', \n",
        "         label='Itália')\n",
        "ax1.plot(spain_df.index, spain_df['total_deaths'], linewidth=4, color='darkred', \n",
        "         label='Espanha')\n",
        "ax1.plot(iran_df.index, iran_df['total_deaths'], linewidth=4, color='orange', \n",
        "         label='Irã')\n",
        "ax1.plot(brazil_df.index, brazil_df['total_deaths'], linewidth=4, label='Brasil')\n",
        "ax1.grid(ls='-.', lw=0.45)\n",
        "ax1.legend(fontsize=12, loc=2)\n",
        "ax1.set_title('Taxa de mortes devido ao covid-19, ano 2020', fontsize=20, \n",
        "              weight='bold')\n",
        "ax1.set_xlabel('Dias Desde o Dia ZERO', weight='bold', fontsize=12)\n",
        "ax1.set_ylabel('Total de Mortes', weight='bold', fontsize=12)\n",
        "\n",
        "#zoom para destacar o Brasil\n",
        "ax2 = plt.subplot2grid((4,4), (3,1), colspan=2, rowspan=1)\n",
        "ax2.axis([0, 60, -1, 50])\n",
        "ax2.plot(china_df.index, china_df['total_deaths'], linewidth=4, color='red', \n",
        "         label='China')\n",
        "ax2.plot(usa_df.index, usa_df['total_deaths'], linewidth=4, color='darkblue', \n",
        "         label='USA')\n",
        "ax2.plot(canada_df.index, canada_df['total_cases'], linewidth=4, \n",
        "         color='lightgreen', label='Canada')\n",
        "ax2.plot(italy_df.index, italy_df['total_deaths'], linewidth=4, color='green', \n",
        "         label='Itália')\n",
        "ax2.plot(spain_df.index, spain_df['total_deaths'], linewidth=4, color='darkred', \n",
        "         label='Espanha')\n",
        "ax2.plot(iran_df.index, iran_df['total_deaths'], linewidth=4, color='orange', \n",
        "         label='Irã')\n",
        "ax2.plot(brazil_df.index, brazil_df['total_deaths'], linewidth=4, label='Brasil')\n",
        "ax2.grid(ls='-.', lw=0.45)\n",
        "ax2.set_title('Zoom para destacar o Brasil')\n",
        "\n",
        "fig.tight_layout(pad=1.0)\n",
        "\n",
        "#visao artistica\n",
        "ax = plt.gca()\n",
        "text_box = 'Dia ZERO: \\n China: 31/12/2019 \\n USA: 21/01/2020'\\\n",
        "           '\\n Canadá: 26/01/2020 \\n Itália: 31/01/2020 \\n Espanha: 01/02/2020'\\\n",
        "           ' \\n Irã: 20/02/2020 \\n Brasil: 26/02/2020'\n",
        "prop = dict(boxstyle='round', facecolor='wheat', alpha=0.7)\n",
        "ax.text(1.15, 2.2, text_box, transform=ax.transAxes, fontsize=12,\n",
        "        verticalalignment='bottom', bbox=prop)\n",
        "\n",
        "\n",
        "plt.show()"
      ],
      "execution_count": 0,
      "outputs": []
    },
    {
      "cell_type": "markdown",
      "metadata": {
        "id": "zqczMRME2S49",
        "colab_type": "text"
      },
      "source": [
        "*usando uma regressão polinomial*"
      ]
    },
    {
      "cell_type": "code",
      "metadata": {
        "id": "KbhflqQqZBP3",
        "colab_type": "code",
        "colab": {}
      },
      "source": [
        "model = LinearRegression()\n",
        "orders = np.arange(0,10)\n",
        "r2_train = np.zeros(10)\n",
        "r2_test = np.zeros(10)\n",
        "\n",
        "#X = china_df.index\n",
        "#y = china_df['total_cases']\n",
        "X = brazil_df.index\n",
        "y = brazil_df['total_deaths']\n",
        "#X = usa_df.index\n",
        "#y = usa_df['total_cases']\n",
        "\n",
        "X_train, X_test, y_train, y_test = train_test_split(X, y, random_state=0)\n",
        "\n",
        "X_tr = X_train.values.reshape(-1,1)\n",
        "X_ts = X_test.values.reshape(-1,1)\n",
        "\n",
        "for i in range(len(orders)):\n",
        "  poly = PolynomialFeatures(degree=orders[i])\n",
        "\n",
        "  X_tr_poly = poly.fit_transform(X_tr)\n",
        "  X_ts_poly = poly.fit_transform(X_ts)\n",
        "  \n",
        "  model.fit(X_tr_poly, y_train)\n",
        "\n",
        "  r2_train[i] = r2_score(y_train, model.predict(X_tr_poly))\n",
        "  r2_test[i] = r2_score(y_test, model.predict(X_ts_poly))\n",
        "  if i>0:\n",
        "    if r2_train[i] > r2_train[i-1]:\n",
        "      max_r2_train = r2_train[i]\n",
        "      i_r2_train = i\n",
        "    if r2_test[i] > r2_test[i-1]:\n",
        "      max_r2_test = r2_test[i]\n",
        "      i_r2_test = i\n",
        "\n",
        "print(i_r2_train, max_r2_train, i_r2_test, max_r2_test)\n"
      ],
      "execution_count": 0,
      "outputs": []
    },
    {
      "cell_type": "markdown",
      "metadata": {
        "id": "-Qr2LISqnCpK",
        "colab_type": "text"
      },
      "source": [
        "### Plotando os resultados"
      ]
    },
    {
      "cell_type": "code",
      "metadata": {
        "id": "0p-ImWRade8F",
        "colab_type": "code",
        "colab": {}
      },
      "source": [
        "plt.figure(figsize=(12,6))\n",
        "\n",
        "plt.plot(china_df.index, china_df['total_deaths'], linewidth=4, color='red', label='China')\n",
        "plt.plot(usa_df.index, usa_df['total_deaths'], linewidth=4, color='darkblue', label='USA')\n",
        "plt.plot(italy_df.index, italy_df['total_deaths'], linewidth=4, color='green', label='Itália')\n",
        "plt.plot(spain_df.index, spain_df['total_deaths'], linewidth=4, color='darkred', label='Espanha')\n",
        "plt.plot(iran_df.index, iran_df['total_deaths'], linewidth=4, color='orange', label='Irã')\n",
        "plt.plot(brazil_df.index, brazil_df['total_deaths'], linewidth=4, label='Brasil')\n",
        "\n",
        "#fazendo a previsao conforme o modelo de acao do Brasil\n",
        "def plot_model(local, ordem, cor):\n",
        "  X = local.index\n",
        "  y = local['total_deaths']\n",
        "  X_predict = np.arange(0,80).reshape(-1,1)\n",
        "  poly = PolynomialFeatures(degree=orders[ordem])\n",
        "  X1 = X.values.reshape(-1,1)\n",
        "  X_poly = poly.fit_transform(X1)\n",
        "  model.fit(X_poly, y)\n",
        "\n",
        "  plt.plot(X_predict, model.predict(poly.fit_transform(X_predict)), '--', color=cor)\n",
        "  for i in np.arange(30.0,150.0,20.0):\n",
        "    day = model.predict(poly.fit_transform([[i]]))\n",
        "    plt.text(12+(i/2), 4800, 'd%1.0f : %1.0f, '%(i, day))\n",
        "    \n",
        "plot_model(brazil_df, 5, 'black')\n",
        "#plot_model(china_df, 7, 'red')\n",
        "#plot_model(usa_df, 9, 'blue')\n",
        "\n",
        "#formatando o grafico\n",
        "plt.legend(fontsize=12)\n",
        "plt.title('Previsão de evolução de mortes por covid-19 \\n para o Brasil na '\\\n",
        "          'hipótese de nada se alterar, ano 2020', fontsize=20, weight='bold')\n",
        "plt.ylabel('Total de Mortes', fontsize=12)\n",
        "plt.xlabel('Dias Desde o Dia ZERO', fontsize=12)\n",
        "plt.xticks(fontsize=10)\n",
        "\n",
        "#visao artistica\n",
        "ax = plt.gca()\n",
        "ax.axis([0, 90, -1, 5000])\n",
        "ax.spines['top'].set_visible(False)\n",
        "ax.spines['right'].set_visible(False)\n",
        "ax.grid(ls='-.', lw=0.45)\n",
        "\n",
        "plt.arrow(85, 4800, -4, -310, width=0.2, head_width=1, head_length=100, color='black')\n",
        "plt.text(75, 4200, '05/07/2020')\n",
        "\n",
        "text_box = 'Dia ZERO: \\n China: 31/12/2019 \\n USA: 21/01/2020'\\\n",
        "           '\\n Itália: 31/01/2020 \\n Espanha: 01/02/2020 \\n Irã: 20/02/2020 \\n'\\\n",
        "           'Brasil: 26/02/2020'\n",
        "\n",
        "props = dict(boxstyle='round', facecolor='wheat', alpha=0.7)\n",
        "\n",
        "ax.text(0.75, 0.15, text_box, transform=ax.transAxes, fontsize=14,\n",
        "        verticalalignment='bottom', bbox=props)\n",
        "\n",
        "plt.show()"
      ],
      "execution_count": 0,
      "outputs": []
    },
    {
      "cell_type": "markdown",
      "metadata": {
        "id": "2Y75eURt2hx6",
        "colab_type": "text"
      },
      "source": [
        "*calculando qual será o dia D130 para o Brasil"
      ]
    },
    {
      "cell_type": "code",
      "metadata": {
        "id": "5R60JEMpdtmI",
        "colab_type": "code",
        "outputId": "923e403a-93f9-4119-aba7-d03bede772b9",
        "colab": {
          "base_uri": "https://localhost:8080/",
          "height": 34
        }
      },
      "source": [
        "d = date(2020, 2, 26)\n",
        "d = d + timedelta(days = 130)\n",
        "d"
      ],
      "execution_count": 0,
      "outputs": [
        {
          "output_type": "execute_result",
          "data": {
            "text/plain": [
              "datetime.date(2020, 7, 5)"
            ]
          },
          "metadata": {
            "tags": []
          },
          "execution_count": 156
        }
      ]
    },
    {
      "cell_type": "markdown",
      "metadata": {
        "id": "FkpMWxoX_wdg",
        "colab_type": "text"
      },
      "source": [
        "## Novos Casos"
      ]
    },
    {
      "cell_type": "code",
      "metadata": {
        "id": "SP4Oqz5K_0sm",
        "colab_type": "code",
        "colab": {}
      },
      "source": [
        "fig = plt.figure(figsize=(12,6))\n",
        "\n",
        "props = dict(boxstyle='round', facecolor='wheat', alpha=0.7)\n",
        "\n",
        "ax = fig.add_subplot(321)\n",
        "ax.bar(china_df.index, china_df['new_cases'], width=0.8, color='red', label='China')\n",
        "ax.legend(fontsize=8, loc=2)\n",
        "ax.text(0.02, 0.15, 'Dia ZERO: 31/12/2019', transform=ax.transAxes, fontsize=8,\n",
        "        verticalalignment='bottom', bbox=props)\n",
        "ax.spines['top'].set_visible(False)\n",
        "ax.spines['right'].set_visible(False)\n",
        "\n",
        "ax = fig.add_subplot(322)\n",
        "ax.bar(usa_df.index, usa_df['new_cases'], width=0.8, color='darkblue', \n",
        "        label='USA')\n",
        "ax.legend(fontsize=8, loc=2)\n",
        "ax.text(0.02, 0.15, 'Dia ZERO: 21/01/2020', transform=ax.transAxes, fontsize=8,\n",
        "        verticalalignment='bottom', bbox=props)\n",
        "ax.spines['top'].set_visible(False)\n",
        "ax.spines['right'].set_visible(False)\n",
        "\n",
        "ax = fig.add_subplot(323)\n",
        "ax.bar(italy_df.index, italy_df['new_cases'], width=0.8, color='green', \n",
        "       label='Itália')\n",
        "ax.legend(fontsize=8, loc=2)\n",
        "ax.text(0.02, 0.15, 'Dia ZERO: 31/01/2020', transform=ax.transAxes, fontsize=8,\n",
        "        verticalalignment='bottom', bbox=props)\n",
        "ax.set_ylabel('\\nNovos Casos por Dia', weight='bold', fontsize=12)\n",
        "ax.spines['top'].set_visible(False)\n",
        "ax.spines['right'].set_visible(False)\n",
        "\n",
        "ax = fig.add_subplot(324)\n",
        "ax.bar(spain_df.index, spain_df['new_cases'], width=0.8, color='darkred', \n",
        "        label='Espanha')\n",
        "ax.legend(fontsize=8, loc=2)\n",
        "ax.text(0.02, 0.15, 'Dia ZERO: 01/02/2020', transform=ax.transAxes, fontsize=8,\n",
        "        verticalalignment='bottom', bbox=props)\n",
        "ax.spines['top'].set_visible(False)\n",
        "ax.spines['right'].set_visible(False)\n",
        "\n",
        "ax = fig.add_subplot(325)\n",
        "#ax.bar(iran_df.index, iran_df['new_cases'], width=0.8, color='orange', \n",
        "#       label='Irã')\n",
        "ax.bar(canada_df.index, canada_df['new_cases'], width=0.8, color='orange', \n",
        "       label='Canadá')\n",
        "ax.legend(fontsize=8, loc=2)\n",
        "#ax.text(0.02, 0.15, 'Dia ZERO: 20/02/2020', transform=ax.transAxes, fontsize=8,\n",
        "#        verticalalignment='bottom', bbox=props)\n",
        "ax.text(0.02, 0.15, 'Dia ZERO: 26/01/2020', transform=ax.transAxes, fontsize=8,\n",
        "        verticalalignment='bottom', bbox=props)\n",
        "ax.spines['top'].set_visible(False)\n",
        "ax.spines['right'].set_visible(False)\n",
        "\n",
        "ax = fig.add_subplot(326)\n",
        "ax.bar(brazil_df.index, brazil_df['new_cases'], width=0.8, label='Brasil')\n",
        "ax.legend(fontsize=8, loc=2)\n",
        "ax.text(0.02, 0.15, 'Dia ZERO: 26/02/2020', transform=ax.transAxes, fontsize=8,\n",
        "        verticalalignment='bottom', bbox=props)\n",
        "ax.spines['top'].set_visible(False)\n",
        "ax.spines['right'].set_visible(False)\n",
        "\n",
        "#visao artistica\n",
        "ax = plt.gca()\n",
        "#ax.grid(ls='-.', lw=0.45)\n",
        "ax.annotate('Dias Desde o Dia ZERO', xy=(320, 15), xycoords='figure pixels', \n",
        "            weight='bold', fontsize=12)\n",
        "ax.annotate('Quantidade de casos novos de covid-19, ano 2020', xy=(120, 380), \n",
        "            xycoords='figure pixels', fontsize=20, weight='bold')\n",
        "\n",
        "\n",
        "plt.show()"
      ],
      "execution_count": 0,
      "outputs": []
    },
    {
      "cell_type": "code",
      "metadata": {
        "id": "bZeHEvpjqkIb",
        "colab_type": "code",
        "colab": {}
      },
      "source": [
        ""
      ],
      "execution_count": 0,
      "outputs": []
    }
  ]
}